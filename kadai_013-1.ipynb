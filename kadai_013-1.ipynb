{
  "nbformat": 4,
  "nbformat_minor": 0,
  "metadata": {
    "colab": {
      "provenance": []
    },
    "kernelspec": {
      "name": "python3",
      "display_name": "Python 3"
    },
    "language_info": {
      "name": "python"
    }
  },
  "cells": [
    {
      "cell_type": "code",
      "source": [
        "def calculate_total(num) -> int:\n",
        "  return num * 1.10\n",
        "\n",
        "num = 1000\n",
        "print(calculate_total(num))"
      ],
      "metadata": {
        "colab": {
          "base_uri": "https://localhost:8080/"
        },
        "id": "B-z0eKXnBKmd",
        "outputId": "3a4a9e26-0b8f-4a0d-8cb3-a83d7cf573c6"
      },
      "execution_count": 90,
      "outputs": [
        {
          "output_type": "stream",
          "name": "stdout",
          "text": [
            "1100.0\n"
          ]
        }
      ]
    }
  ]
}