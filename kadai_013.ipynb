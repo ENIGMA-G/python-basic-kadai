{
  "nbformat": 4,
  "nbformat_minor": 0,
  "metadata": {
    "colab": {
      "provenance": []
    },
    "kernelspec": {
      "name": "python3",
      "display_name": "Python 3"
    },
    "language_info": {
      "name": "python"
    }
  },
  "cells": [
    {
      "cell_type": "code",
      "source": [
        "def add_two_arguments(price,tax):\n",
        "\n",
        "  total = price + (price * tax)\n",
        "  print(f\"{total}円\")\n",
        "\n",
        "add_two_arguments(1200,0.1)"
      ],
      "metadata": {
        "colab": {
          "base_uri": "https://localhost:8080/"
        },
        "id": "lL_SHUeD3P2G",
        "outputId": "239c8a33-6e53-489f-eb80-8a3cfad91390"
      },
      "execution_count": 71,
      "outputs": [
        {
          "output_type": "stream",
          "name": "stdout",
          "text": [
            "1320.0円\n"
          ]
        }
      ]
    }
  ]
}