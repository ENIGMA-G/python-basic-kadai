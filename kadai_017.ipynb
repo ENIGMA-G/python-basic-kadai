{
  "nbformat": 4,
  "nbformat_minor": 0,
  "metadata": {
    "colab": {
      "provenance": []
    },
    "kernelspec": {
      "name": "python3",
      "display_name": "Python 3"
    },
    "language_info": {
      "name": "python"
    }
  },
  "cells": [
    {
      "cell_type": "code",
      "source": [
        "class Human:\n",
        "  def __init__(self, name, age):\n",
        "    self.name = name\n",
        "    self.age = age\n",
        "\n",
        "  def check_adult(self):\n",
        "    if self.age >= 20:\n",
        "      print(f\"{self.name}は大人です\")\n",
        "    else:\n",
        "      print(f\"{self.name}は未成年です\")\n",
        "\n",
        "human1 = Human(\"侍太郎\", 20)\n",
        "human2 = Human(\"侍二郎\", 21)\n",
        "human3 = Human(\"侍花子\", 19)\n",
        "\n",
        "human_list = [human1, human2, human3]\n",
        "for human in human_list:\n",
        "  human.check_adult()"
      ],
      "metadata": {
        "colab": {
          "base_uri": "https://localhost:8080/"
        },
        "id": "pMOqQ6a-eHqe",
        "outputId": "b0aa7261-0702-49bf-fe3a-a795dc6db748"
      },
      "execution_count": 1,
      "outputs": [
        {
          "output_type": "stream",
          "name": "stdout",
          "text": [
            "侍太郎は大人です\n",
            "侍二郎は大人です\n",
            "侍花子は未成年です\n"
          ]
        }
      ]
    },
    {
      "cell_type": "code",
      "source": [
        "\"\""
      ],
      "metadata": {
        "id": "SzLTjhDAj_ly"
      },
      "execution_count": null,
      "outputs": []
    }
  ]
}