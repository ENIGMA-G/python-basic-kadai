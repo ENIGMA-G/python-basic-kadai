{
  "nbformat": 4,
  "nbformat_minor": 0,
  "metadata": {
    "colab": {
      "provenance": []
    },
    "kernelspec": {
      "name": "python3",
      "display_name": "Python 3"
    },
    "language_info": {
      "name": "python"
    }
  },
  "cells": [
    {
      "cell_type": "code",
      "source": [
        "top   = 10\n",
        "under = 20\n",
        "high  = 5\n",
        "\n",
        "area = (( top + under ) * high ) / 2\n",
        "print(f\"台形の面積の計算結果は{area}です。\")"
      ],
      "metadata": {
        "colab": {
          "base_uri": "https://localhost:8080/"
        },
        "id": "P6fDoHPazLui",
        "outputId": "50b46644-cee4-4d2a-ddfa-e4a1fbab4997"
      },
      "execution_count": 33,
      "outputs": [
        {
          "output_type": "stream",
          "name": "stdout",
          "text": [
            "台形の面積の計算結果は75.0です。\n"
          ]
        }
      ]
    }
  ]
}