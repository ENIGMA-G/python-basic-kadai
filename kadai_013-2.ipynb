{
  "nbformat": 4,
  "nbformat_minor": 0,
  "metadata": {
    "colab": {
      "provenance": []
    },
    "kernelspec": {
      "name": "python3",
      "display_name": "Python 3"
    },
    "language_info": {
      "name": "python"
    }
  },
  "cells": [
    {
      "cell_type": "code",
      "source": [
        "def calculate_tota_price(price,tax_rate):\n",
        "  total_price = price + (price * tax_rate)\n",
        "  return total_price\n",
        "\n",
        "calculate_tota_price(1000,0.1)\n",
        "print(f\"{total_price}\")\n",
        "\n"
      ],
      "metadata": {
        "colab": {
          "base_uri": "https://localhost:8080/"
        },
        "id": "pPzS3vrLPedy",
        "outputId": "8213c9e4-3d71-44fa-f719-69dbe4db4d3e"
      },
      "execution_count": 13,
      "outputs": [
        {
          "output_type": "stream",
          "name": "stdout",
          "text": [
            "1100.0\n"
          ]
        }
      ]
    }
  ]
}